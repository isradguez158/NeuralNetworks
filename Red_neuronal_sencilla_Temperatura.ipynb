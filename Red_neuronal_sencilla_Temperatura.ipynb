{
  "nbformat": 4,
  "nbformat_minor": 0,
  "metadata": {
    "colab": {
      "provenance": [],
      "include_colab_link": true
    },
    "kernelspec": {
      "name": "python3",
      "display_name": "Python 3"
    },
    "language_info": {
      "name": "python"
    }
  },
  "cells": [
    {
      "cell_type": "markdown",
      "metadata": {
        "id": "view-in-github",
        "colab_type": "text"
      },
      "source": [
        "<a href=\"https://colab.research.google.com/github/isradguez158/NeuralNetworks/blob/main/Red_neuronal_sencilla_Temperatura.ipynb\" target=\"_parent\"><img src=\"https://colab.research.google.com/assets/colab-badge.svg\" alt=\"Open In Colab\"/></a>"
      ]
    },
    {
      "cell_type": "markdown",
      "source": [
        "#  Curso de Introducción a la Inteligencia Artificial y los algoritmos\n",
        "\n",
        "\n",
        "---\n",
        "\n",
        "\n",
        "*Red neuronal con Python*"
      ],
      "metadata": {
        "id": "JK5RGzIrbd9c"
      }
    },
    {
      "cell_type": "markdown",
      "source": [
        "Utilizamos Google colab, un entorno de desarrollo desarrollado por Google. Creamos una libreta con extensión .ipynb.  Un archivo IPYNB es un documento de cuaderno utilizado por Jupyter Notebook, un entorno computacional interactivo diseñado para ayudar a los científicos a trabajar con el lenguaje Python y sus datos"
      ],
      "metadata": {
        "id": "V_tq9YCwskND"
      }
    },
    {
      "cell_type": "markdown",
      "source": [
        "Esta es una sencilla red neuronal. En muchos países se mide la temperatura en grados Celsius. Hay otros países que utilizan los grados Fahrenheit.\n",
        "La fórmula que los relaciona es :  F = C * 1,8 + 32 o bien C = (F - 32)* 5/9.\n",
        "\n",
        "Por tanto, se trata de una fórmula lineal donde tenemos un valor de X que es los grados Celsius, un valor de Y que son los grados fahrenheit, una constante que es 1,8 y un término independiente, 32.\n",
        "\n",
        "Es muy importante conocer los valores los conceptos de PESOS y SESGOS, que utiliza la red para ir ajustando el modelo."
      ],
      "metadata": {
        "id": "UZ3-gPkjy0Kl"
      }
    },
    {
      "cell_type": "code",
      "execution_count": null,
      "metadata": {
        "id": "2nfsL9dlWYR6"
      },
      "outputs": [],
      "source": [
        "# Importamos a nuestra libreta de trabajo las librerias a utilizar\n",
        "import tensorflow as tf # libreria para IA desarrollada por google\n",
        "import numpy as np # para trabajar con números"
      ]
    },
    {
      "cell_type": "code",
      "source": [
        "#introducimos los datos. Se crea un array, un tipo de dato estructurado que permite almacenar un conjunto de datos homogéneo\n",
        "celsius = np.array([-40, -10, 0, 8, 15, 22, 38], dtype=float) #float son números reales con comas, coma flotante\n",
        "fahrenheit = np.array([-40, 14, 32, 46, 59, 72, 100], dtype=float) #np es numpy python, números en python\n",
        "\n",
        "#estos son los ejemplos que la red usará para aprender. De momento no sabemos cual es la fórmula\n",
        "print(celsius)\n",
        "print(fahrenheit)"
      ],
      "metadata": {
        "id": "hA9MxFAoXLYm",
        "colab": {
          "base_uri": "https://localhost:8080/"
        },
        "outputId": "fb5805e2-cebe-4103-d349-7d9c0604a9d7"
      },
      "execution_count": null,
      "outputs": [
        {
          "output_type": "stream",
          "name": "stdout",
          "text": [
            "[-40. -10.   0.   8.  15.  22.  38.]\n",
            "[-40.  14.  32.  46.  59.  72. 100.]\n"
          ]
        }
      ]
    },
    {
      "cell_type": "code",
      "source": [
        "celsius = np.array([-40, -10, 0, 8, 15, 22, 38], dtype=float)\n",
        "fahrenheit = np.array([-40, 14, 32, 46, 59, 72, 100], dtype=float)"
      ],
      "metadata": {
        "id": "sqWWuWiiXY0B"
      },
      "execution_count": null,
      "outputs": []
    },
    {
      "cell_type": "code",
      "source": [
        "# Modelo de red neuronal con una neurona. Utilizamos el framework Keras. Keras nos permite hacer las redes  neuronales más simples. Puedes especificar las dos capas de entrada\n",
        "# y salida o especificar solo la capa de salida.\n",
        "capa = tf.keras.layers.Dense(units=1, input_shape=[1]) # capas tipo densa, conecta todas las neuronas entre si aunque en este caso solo hay dos neuronas, units=unidades o neuronas\n",
        "#input_shape estamos diciendo que se trata de una capa de entrada con una neurona\n",
        "print(capa)\n",
        "\n",
        "#Modelo secuencial\n",
        "modelo = tf.keras.Sequential([capa]) # creamos un modelo secuencial, aunque hay de varios tipos. Le indicamos la capa que acabamos de crear\n",
        "print(modelo)"
      ],
      "metadata": {
        "id": "QYkF8089dX1H",
        "colab": {
          "base_uri": "https://localhost:8080/"
        },
        "outputId": "c46d4db6-794a-4821-dd46-2656f3825e6c"
      },
      "execution_count": null,
      "outputs": [
        {
          "output_type": "stream",
          "name": "stdout",
          "text": [
            "<keras.src.layers.core.dense.Dense object at 0x7e8eb277f9d0>\n",
            "<keras.src.engine.sequential.Sequential object at 0x7e8e9756f580>\n"
          ]
        }
      ]
    },
    {
      "cell_type": "code",
      "source": [
        "# COMPILAMOS EL MODELO. Se prepara el modelo para ser entrenado. Se utilizan dos propiedades: optimizador y función de pérdida.\n",
        "# Optimizador utilizamos el algoritmo de Adams, puedes ver que es en una búsqueda , permite a la red saber como ajustar PESOS y SESGOS para ir mejorando\n",
        "modelo.compile(\n",
        "    optimizer=tf.keras.optimizers.Adam(0.1), # \"0.1\" es la tasa de aprendizaje, si es muy pequeño los ajusta poco a poco, si es muy grande puede tardar mucho\n",
        "    loss='mean_squared_error' # es la función de pérdida, que utilizamos el error cuadrático medio\n",
        ")"
      ],
      "metadata": {
        "id": "ttLWYdkWej58"
      },
      "execution_count": null,
      "outputs": []
    },
    {
      "cell_type": "code",
      "source": [
        "# ENTRENAMIENTO DEL MODELO. Se utiliza la función fit, ajuste,\n",
        "print(\"Comenzando entrenamiento...\")\n",
        "historial = modelo.fit(celsius, fahrenheit, epochs=1000, verbose=False) #epochs es las vueltas que da el algoritmo, recordamos que tenemos 7 datos, 1 vuelta serían usarlos una vez\n",
        "print(\"Modelo entrenado!\")\n",
        "\n",
        "#tenemos que dar muchas vueltas para que optimice lo más posible, se usa el valor 1000 para revisar, aunque se puede cambiar posteriormente\n"
      ],
      "metadata": {
        "id": "wrOwHgDYk8Hr",
        "colab": {
          "base_uri": "https://localhost:8080/"
        },
        "outputId": "b17d30b2-4d25-4cd9-f227-326863248489"
      },
      "execution_count": null,
      "outputs": [
        {
          "output_type": "stream",
          "name": "stdout",
          "text": [
            "Comenzando entrenamiento...\n",
            "Modelo entrenado!\n"
          ]
        }
      ]
    },
    {
      "cell_type": "code",
      "source": [
        "# RESULTADO DE LA FUNCIÓN DE PÉRDIDA. Nos informa como de mal están los resultados en cada vuelta\n",
        "import matplotlib.pyplot as plt # se importa la libreria matplot para hacer las gráficas\n",
        "plt.xlabel(\"# Vuelta dada\")\n",
        "plt.ylabel(\"Magnitud de pérdida\")\n",
        "plt.plot(historial.history[\"loss\"])\n"
      ],
      "metadata": {
        "id": "1H-jC2Sjl2et",
        "colab": {
          "base_uri": "https://localhost:8080/",
          "height": 468
        },
        "outputId": "399622b2-c02f-47d6-be29-f0c0d2c9fbe1"
      },
      "execution_count": null,
      "outputs": [
        {
          "output_type": "execute_result",
          "data": {
            "text/plain": [
              "[<matplotlib.lines.Line2D at 0x7e8e9419c3d0>]"
            ]
          },
          "metadata": {},
          "execution_count": 7
        },
        {
          "output_type": "display_data",
          "data": {
            "text/plain": [
              "<Figure size 640x480 with 1 Axes>"
            ],
            "image/png": "[encoded data removed]"
          },
          "metadata": {}
        }
      ]
    },
    {
      "cell_type": "markdown",
      "source": [
        "Como dimos mil vueltas esas mil vueltas podemos ver que conforme fue haciendo más vueltas cada vez los errores van disminuyendo en realidad por lo que podemos ver no necesitamos mil vueltas a partir de 500"
      ],
      "metadata": {
        "id": "rrf4ITyemxkO"
      }
    },
    {
      "cell_type": "code",
      "source": [
        "# PREDICCIÓN DEL MODELO\n",
        "print(\"Hagamos una predicción!\")\n",
        "resultado = modelo.predict([100.0])\n",
        "print(\"El resultado es \" + str(resultado) + \" fahrenheit!\")"
      ],
      "metadata": {
        "id": "GPL6z1Vym-yo",
        "colab": {
          "base_uri": "https://localhost:8080/"
        },
        "outputId": "fe7886c9-55dc-4114-98d9-13274131cc2e"
      },
      "execution_count": null,
      "outputs": [
        {
          "output_type": "stream",
          "name": "stdout",
          "text": [
            "Hagamos una predicción!\n",
            "1/1 [==============================] - 0s 155ms/step\n",
            "El resultado es [[211.74301]] fahrenheit!\n"
          ]
        }
      ]
    },
    {
      "cell_type": "code",
      "source": [
        "# MOSTRANDO LAS VARIABLES INTERNAS DEL MODELO, DE NUESTRA RED NEURONAL\n",
        "\n",
        "print(\"Variables internas del modelo\")\n",
        "print(capa.get_weights()) # En el primer array el valor es de 1.7984154 (la fórmula es 1,8), sería el PESO y el segundo array es 31.89878 (el SESGO), buscábamos 32"
      ],
      "metadata": {
        "id": "lVgArIlonWC4",
        "colab": {
          "base_uri": "https://localhost:8080/"
        },
        "outputId": "ae5de7c2-eb56-4b29-fa56-c09af093db6c"
      },
      "execution_count": null,
      "outputs": [
        {
          "output_type": "stream",
          "name": "stdout",
          "text": [
            "Variables internas del modelo\n",
            "[array([[1.7982088]], dtype=float32), array([31.922129], dtype=float32)]\n"
          ]
        }
      ]
    },
    {
      "cell_type": "markdown",
      "source": [
        "Por tanto, hemos introduccido 100, que es multiplicado por 1.7984154 y después se le suma 31.89878, es decir 100*1,7984154+31.89878 = **211.74**.\n",
        "# Entrada ha sido 100 y salida ha sido 211.74.\n",
        "La red neuronal sin haberle dicho la fórmula ha conseguido un resultado prácticamente igual al de la fórmula original."
      ],
      "metadata": {
        "id": "-Dmx96AYoWVZ"
      }
    },
    {
      "cell_type": "code",
      "source": [
        "# Agregamos más capas y más neuronas a la red. Agregamos 2 capas intermedias (ocultas) con 3 neuronas y hacemos el mismo proceso\n",
        "#capa = tf.keras.layers.Dense(units=1, input_shape=[1])\n",
        "#modelo = tf.keras.Sequential([capa])\n",
        "\n",
        "oculta1 = tf.keras.layers.Dense(units=3, input_shape=[1])\n",
        "oculta2 = tf.keras.layers.Dense(units=3)\n",
        "salida = tf.keras.layers.Dense(units=1)\n",
        "modelo = tf.keras.Sequential([oculta1, oculta2, salida])"
      ],
      "metadata": {
        "id": "Wzt-OiS4oxND"
      },
      "execution_count": null,
      "outputs": []
    },
    {
      "cell_type": "code",
      "source": [
        "modelo.compile(\n",
        "    optimizer=tf.keras.optimizers.Adam(0.1),\n",
        "    loss='mean_squared_error'\n",
        ")"
      ],
      "metadata": {
        "id": "wqIx5g-nsW42"
      },
      "execution_count": null,
      "outputs": []
    },
    {
      "cell_type": "code",
      "source": [
        "print(\"Comenzando entrenamiento...\")\n",
        "historial = modelo.fit(celsius, fahrenheit, epochs=1000, verbose=False)\n",
        "print(\"Modelo entrenado!\")"
      ],
      "metadata": {
        "id": "iY3HlBBKsflH",
        "colab": {
          "base_uri": "https://localhost:8080/"
        },
        "outputId": "31dc12d8-3f01-4b6e-c8de-a6c8711eca64"
      },
      "execution_count": null,
      "outputs": [
        {
          "output_type": "stream",
          "name": "stdout",
          "text": [
            "Comenzando entrenamiento...\n",
            "Modelo entrenado!\n"
          ]
        }
      ]
    },
    {
      "cell_type": "code",
      "source": [
        "import matplotlib.pyplot as plt\n",
        "plt.xlabel(\"# Epoca\")\n",
        "plt.ylabel(\"Magnitud de pérdida\")\n",
        "plt.plot(historial.history[\"loss\"])"
      ],
      "metadata": {
        "id": "6fv2Hzsfsmx1"
      },
      "execution_count": null,
      "outputs": []
    },
    {
      "cell_type": "code",
      "source": [
        "print(\"Hagamos una predicción!\")\n",
        "resultado = modelo.predict([100.0])\n",
        "print(\"El resultado es \" + str(resultado) + \" fahrenheit!\")"
      ],
      "metadata": {
        "id": "ewF33wC2s2f_"
      },
      "execution_count": null,
      "outputs": []
    },
    {
      "cell_type": "code",
      "source": [
        "print(\"Variables internas del modelo\")\n",
        "#print(capa.get_weights())\n",
        "print(oculta1.get_weights())\n",
        "print(oculta2.get_weights())\n",
        "print(salida.get_weights())"
      ],
      "metadata": {
        "id": "3nS72tZgs6SR"
      },
      "execution_count": null,
      "outputs": []
    }
  ]
}